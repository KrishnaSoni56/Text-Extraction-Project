{
 "cells": [
  {
   "cell_type": "markdown",
   "id": "8e2e9d3e-fe3c-49ea-88b8-eef315a040d6",
   "metadata": {},
   "source": [
    "\n"
   ]
  },
  {
   "cell_type": "code",
   "execution_count": null,
   "id": "abeec60b-15c0-4585-8b47-5318cb2636bd",
   "metadata": {},
   "outputs": [],
   "source": [
    "import pytesseract\n",
    "\n",
    "pytesseract.pytesseract.tesseract_cmd = r'C:\\Users\\soni2\\AppData\\Local\\Programs\\Tesseract-OCR\\tesseract.exe'"
   ]
  },
  {
   "cell_type": "code",
   "execution_count": null,
   "id": "80869a2a-47da-41a2-9d1f-d94cf8f87e5f",
   "metadata": {},
   "outputs": [],
   "source": [
    "import cv2\n",
    "import re\n",
    "\n",
    "# Initialize the webcam\n",
    "cap = cv2.VideoCapture(0)\n",
    "\n",
    "# if camera is not opened \n",
    "if not cap.isOpened():\n",
    "    print(\"Error: Could not open camera.\")\n",
    "    exit()\n",
    "    \n",
    "while True:   # Infinite loop for video processing , value set to True\n",
    "    ret, frame = cap.read()\n",
    "\n",
    "    if not ret:\n",
    "        print(\"Error: Could not read frame.\")\n",
    "        break\n",
    "\n",
    "    gray_frame = cv2.cvtColor(frame, cv2.COLOR_BGR2GRAY)   # Coverting captured image in the frame to grey\n",
    "# Performing OCR ( Optical Character recognition)\n",
    "\n",
    "    extracted_text = pytesseract.image_to_string(gray_frame)\n",
    "# matching that extracted text is satisfying this following pattern\n",
    "\n",
    "    numerical_data = re.findall(r'[A-Z]{2}\\s?\\d{1,2}\\s?[A-Z]{2}\\s?\\d{4}|\\b[A-Z]{2}\\d{2}[A-Z]{2}\\d{4}\\b', extracted_text)\n",
    "\n",
    "    # Display the detected vehicle numbers in the output cell\n",
    "    print(\"Detected Vehicle Numbers:\", numerical_data)\n",
    "\n",
    "    cv2.imshow(\"Live Video\", frame)\n",
    "\n",
    "    key = cv2.waitKey(1) & 0xFF\n",
    "    if key == ord('q'):\n",
    "        stop_loop = True\n",
    "cap.release()\n",
    "cv2.destroyAllWindows()\n"
   ]
  },
  {
   "cell_type": "code",
   "execution_count": null,
   "id": "25d5848b-0f9e-4057-aa8b-bad6b831feed",
   "metadata": {},
   "outputs": [],
   "source": []
  }
 ],
 "metadata": {
  "kernelspec": {
   "display_name": "Python 3 (ipykernel)",
   "language": "python",
   "name": "python3"
  },
  "language_info": {
   "codemirror_mode": {
    "name": "ipython",
    "version": 3
   },
   "file_extension": ".py",
   "mimetype": "text/x-python",
   "name": "python",
   "nbconvert_exporter": "python",
   "pygments_lexer": "ipython3",
   "version": "3.10.9"
  }
 },
 "nbformat": 4,
 "nbformat_minor": 5
}
